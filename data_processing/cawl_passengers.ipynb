{
 "cells": [
  {
   "cell_type": "code",
   "execution_count": 7,
   "id": "0b169b80-b400-4cdd-8418-2fa469f63511",
   "metadata": {},
   "outputs": [],
   "source": [
    "from faker import Faker\n",
    "import json\n",
    "import random\n",
    "\n",
    "fake = Faker('vi_VN')\n",
    "\n",
    "# Custom name generator with a mix of Vietnamese and fake names\n",
    "def custom_name():\n",
    "    if random.random() < 0.5:\n",
    "        return fake.first_name()\n",
    "    else:\n",
    "        return fake.last_name()\n",
    "\n",
    "passengers = []\n",
    "for i in range(5):\n",
    "    passenger = {\n",
    "        \"name\": custom_name(),\n",
    "        \"address\": fake.address(),\n",
    "        \"phoneNumber\": fake.phone_number(),\n",
    "        \"email\": fake.email(),\n",
    "        \"passportNumber\": fake.random_number(digits=8)\n",
    "    }\n",
    "    passengers.append(passenger)\n",
    "\n",
    "with open('passengers.json', 'w') as f:\n",
    "    json.dump(passengers, f, indent=4)\n"
   ]
  },
  {
   "cell_type": "code",
   "execution_count": null,
   "id": "f9b8dfc8-cfe3-4eff-96aa-4e8472524b0e",
   "metadata": {},
   "outputs": [],
   "source": []
  }
 ],
 "metadata": {
  "kernelspec": {
   "display_name": "Python 3 (ipykernel)",
   "language": "python",
   "name": "python3"
  },
  "language_info": {
   "codemirror_mode": {
    "name": "ipython",
    "version": 3
   },
   "file_extension": ".py",
   "mimetype": "text/x-python",
   "name": "python",
   "nbconvert_exporter": "python",
   "pygments_lexer": "ipython3",
   "version": "3.9.13"
  }
 },
 "nbformat": 4,
 "nbformat_minor": 5
}
