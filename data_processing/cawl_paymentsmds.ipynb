{
 "cells": [
  {
   "cell_type": "code",
   "execution_count": 1,
   "id": "f1ea255c-5840-4f9c-ae65-fb99bef985c9",
   "metadata": {},
   "outputs": [],
   "source": [
    "#Trong đó, ta sử dụng phương thức fake.random_element() để chọn ngẫu nhiên một trong ba phương thức thanh toán: Credit Card, Debit Card và PayPal. Sử dụng phương thức random.choice() để tạo ngẫu nhiên chuỗi số 10 chữ số cho bankAccountId, và sử dụng phương thức fake.credit_card_number() để tạo số thẻ tín dụng ngẫu nhiên. Cuối cùng, ta sử dụng phương thức fake.name() để tạo tên của chủ thẻ ngẫu nhiên."
   ]
  },
  {
   "cell_type": "code",
   "execution_count": 2,
   "id": "36e7d0ff-4d10-42d7-a88c-cb7dbb0745ad",
   "metadata": {},
   "outputs": [],
   "source": [
    "from faker import Faker\n",
    "import json\n",
    "import random\n",
    "import string\n",
    "\n",
    "fake = Faker()\n",
    "\n",
    "# Custom name generator with a mix of Vietnamese and fake names\n",
    "def custom_name():\n",
    "    if random.random() < 0.5:\n",
    "        return fake.first_name()\n",
    "    else:\n",
    "        return fake.last_name()\n",
    "\n",
    "# List of available languages\n",
    "languages = ['vi_VN', 'zh_CN', 'ja_JP', 'ko_KR', 'th_TH', 'ne_NP', 'bn_BD', 'hi_IN']\n",
    "\n",
    "with open('bank_accounts.json', 'r') as f:\n",
    "    bank_accounts_data = json.load(f)\n",
    "\n",
    "# Create payment method data\n",
    "payment_methods = []\n",
    "for language in languages:\n",
    "    fake = Faker(language)\n",
    "    for i in range(1000):\n",
    "        payment_method = fake.random_element(elements=('Credit Card', 'Debit Card', 'PayPal'))\n",
    "        bank_account_id = random.choice(bank_accounts_data)\n",
    "        card_number = fake.credit_card_number(card_type=None)\n",
    "        card_holder = custom_name()\n",
    "        payment_method_data = {\n",
    "            \"paymentMethod\": payment_method,\n",
    "            \"bankAccountId\": bank_account_id['bankAccountId'],\n",
    "            \"cardNumber\": card_number,\n",
    "            \"cardHolder\": card_holder\n",
    "        }\n",
    "        payment_methods.append(payment_method_data)\n",
    "\n",
    "with open('payment_methods.json', 'w') as f:\n",
    "    json.dump(payment_methods, f, indent=4)\n",
    "    "
   ]
  },
  {
   "cell_type": "code",
   "execution_count": null,
   "id": "3f2eb1b1-743c-4e17-b3a0-de6f32e31339",
   "metadata": {},
   "outputs": [],
   "source": []
  }
 ],
 "metadata": {
  "kernelspec": {
   "display_name": "Python 3 (ipykernel)",
   "language": "python",
   "name": "python3"
  },
  "language_info": {
   "codemirror_mode": {
    "name": "ipython",
    "version": 3
   },
   "file_extension": ".py",
   "mimetype": "text/x-python",
   "name": "python",
   "nbconvert_exporter": "python",
   "pygments_lexer": "ipython3",
   "version": "3.9.13"
  }
 },
 "nbformat": 4,
 "nbformat_minor": 5
}
