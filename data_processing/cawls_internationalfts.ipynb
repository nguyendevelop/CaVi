{
 "cells": [
  {
   "cell_type": "code",
   "execution_count": 1,
   "id": "2132a6c2-4a90-40d7-bdd8-a01f4ff8ad6c",
   "metadata": {},
   "outputs": [],
   "source": [
    "#"
   ]
  },
  {
   "cell_type": "code",
   "execution_count": 2,
   "id": "d0a5f118-a9cd-45b0-854f-fc00d6d90033",
   "metadata": {},
   "outputs": [],
   "source": [
    "from faker import Faker\n",
    "import json\n",
    "import random\n",
    "import requests\n",
    "import datetime\n",
    "\n",
    "# List of available languages\n",
    "languages = ['vi_VN', 'zh_CN', 'ja_JP', 'ko_KR', 'th_TH', 'ne_NP', 'bn_BD', 'hi_IN']\n",
    "\n",
    "# load flights data\n",
    "with open('flights.json', 'r') as f:\n",
    "    flights_data = json.load(f)\n",
    "\n",
    "# load flights data\n",
    "with open('passengers.json', 'r') as f:\n",
    "    passengers_data = json.load(f)\n",
    "    \n",
    "\n",
    "# Generate passenger data for each language\n",
    "international_flights = []\n",
    "for language in languages:\n",
    "    fake = Faker(language)\n",
    "    for i in range(1000):\n",
    "        passport = random.choice(passengers_data)\n",
    "        \n",
    "        flight_code = random.choice(flights_data)\n",
    "        departure_airport = random.choice(flights_data)\n",
    "        arrival_airport = random.choice(flights_data)\n",
    "        departure_date = random.choice(flights_data)\n",
    "        departure_time = random.choice(flights_data)\n",
    "        arrival_date = random.choice(flights_data)\n",
    "        arrival_time = random.choice(flights_data)\n",
    "        airline_code = random.choice(flights_data)\n",
    "        airline_name = random.choice(flights_data)\n",
    "        aircraft_type = random.choice(flights_data)\n",
    "        available_seats = random.choice(flights_data)\n",
    "        ticket_price = random.choice(flights_data)\n",
    "        \n",
    "        international_flight_data = {\n",
    "            \"flightCode\": flight_code['flightCode'],\n",
    "            \"departureDate\": departure_date['departureDate'],\n",
    "            \"departureTime\": departure_time['departureDate'],\n",
    "            \"arrivalDate\": arrival_date['arrivalDate'],\n",
    "            \"arrivalTime\": arrival_time['arrivalTime'],\n",
    "            \"departureAirport\": departure_airport['departureAirport'],\n",
    "            \"arrivalAirport\": arrival_airport['arrivalAirport'],\n",
    "            \"availableSeats\": available_seats['availableSeats'],\n",
    "            \"ticketPrice\": ticket_price['ticketPrice'],\n",
    "            \"airlineCode\": airline_code['airlineCode'],\n",
    "            \"airlineName\": airline_name['airlineName'],\n",
    "            \"aircraftType\": aircraft_type['aircraftType'],\n",
    "            \n",
    "            \"passportNumber\": passport['passportNumber'],\n",
    "            \"visaNumber\": fake.random_int(min=100000000, max=999999999),\n",
    "        }\n",
    "        international_flights.append(international_flight_data)\n",
    "\n",
    "with open('international_flights.json', 'w') as f:\n",
    "    json.dump(international_flights, f, indent=4)"
   ]
  }
 ],
 "metadata": {
  "kernelspec": {
   "display_name": "Python 3 (ipykernel)",
   "language": "python",
   "name": "python3"
  },
  "language_info": {
   "codemirror_mode": {
    "name": "ipython",
    "version": 3
   },
   "file_extension": ".py",
   "mimetype": "text/x-python",
   "name": "python",
   "nbconvert_exporter": "python",
   "pygments_lexer": "ipython3",
   "version": "3.9.13"
  }
 },
 "nbformat": 4,
 "nbformat_minor": 5
}
