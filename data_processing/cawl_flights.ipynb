{
 "cells": [
  {
   "cell_type": "code",
   "execution_count": 2,
   "id": "2c70d61d-e2e2-4820-a3d0-82670aa7a8f7",
   "metadata": {
    "tags": []
   },
   "outputs": [],
   "source": [
    "from faker import Faker\n",
    "import json\n",
    "import random\n",
    "import requests\n",
    "\n",
    "fake = Faker()\n",
    "\n",
    "#\n",
    "response = requests.get('https://raw.githubusercontent.com/jpatokal/openflights/master/data/airports.dat')\n",
    "\n",
    "# Check if the request was successful\n",
    "if response.status_code == 200:\n",
    "    airports = []\n",
    "    data = response.content.decode('utf-8').splitlines()\n",
    "    \n",
    "    # Parse the data to get IATA codes of airports\n",
    "    for line in data:\n",
    "        parts = line.split(',')\n",
    "        if len(parts) > 4 and parts[4]:\n",
    "            airports.append(parts[4].replace('\"', ''))\n",
    "else:\n",
    "    print(\"Error getting airport data.\")\n",
    "\n",
    "# create flight data\n",
    "flights = []\n",
    "for i in range(10000):\n",
    "    flight_code = fake.lexify(text=\"VN###\", letters=\"ABCDEFGHIJKLMNOPQRSTUVWXYZ\")\n",
    "    flight_code = flight_code.replace(\"###\", str(random.randint(100, 999)))\n",
    "    departure_airport = random.choice(airports)\n",
    "    arrival_airport = random.choice(airports)\n",
    "    while arrival_airport == departure_airport:\n",
    "        arrival_airport = random.choice(airports)\n",
    "    flight = {\n",
    "        \"flightCode\": flight_code,\n",
    "        \"departureDate\": fake.date_between(start_date='-1y', end_date='+1y').strftime(\"%Y-%m-%d\"),\n",
    "        \"departureTime\": fake.time(pattern=\"%H:%M:%S\"),\n",
    "        \"arrivalDate\": fake.date_between(start_date='-1y', end_date='+1y').strftime(\"%Y-%m-%d\"),\n",
    "        \"arrivalTime\": fake.time(pattern=\"%H:%M:%S\"),\n",
    "        \"departureAirport\": departure_airport,\n",
    "        \"arrivalAirport\": arrival_airport,\n",
    "        \"availableSeats\": random.randint(100, 300),\n",
    "        \"ticketPrice\": random.randint(100, 500),\n",
    "        \"airline\": \"Vietnam Airlines\",\n",
    "        \"aircraftType\": fake.word()\n",
    "    }\n",
    "    flights.append(flight)\n",
    "\n",
    "with open('flights.json', 'w') as f:\n",
    "    json.dump(flights, f, indent=4)\n"
   ]
  },
  {
   "cell_type": "code",
   "execution_count": null,
   "id": "1aef58e5-80be-4e1a-b6fc-c41fa39f3e96",
   "metadata": {},
   "outputs": [],
   "source": []
  }
 ],
 "metadata": {
  "kernelspec": {
   "display_name": "Python 3 (ipykernel)",
   "language": "python",
   "name": "python3"
  },
  "language_info": {
   "codemirror_mode": {
    "name": "ipython",
    "version": 3
   },
   "file_extension": ".py",
   "mimetype": "text/x-python",
   "name": "python",
   "nbconvert_exporter": "python",
   "pygments_lexer": "ipython3",
   "version": "3.9.13"
  }
 },
 "nbformat": 4,
 "nbformat_minor": 5
}
