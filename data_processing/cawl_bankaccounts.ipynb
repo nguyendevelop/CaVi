{
 "cells": [
  {
   "cell_type": "code",
   "execution_count": 1,
   "id": "6d3b9f4a-713a-4aa1-afea-2f1e2b08c696",
   "metadata": {},
   "outputs": [],
   "source": [
    "#"
   ]
  },
  {
   "cell_type": "code",
   "execution_count": 2,
   "id": "b81d9867-7276-480d-bd56-79a66a5cc664",
   "metadata": {},
   "outputs": [],
   "source": [
    "from faker import Faker\n",
    "import json\n",
    "import random\n",
    "import string\n",
    "\n",
    "# Create payment method data\n",
    "bank_accounts = []\n",
    "\n",
    "for i in range(1000):\n",
    "    bank_names = [\"ACB Bank\", \"Vietcombank\", \"Vietinbank\", \"BIDV\", \"Techcombank\", \"Sacombank\"]\n",
    "    bank_name = random.choice(bank_names)\n",
    "    account_number = ''.join(random.choices(string.digits, k=10))\n",
    "    account_holder = ''.join(random.choices(string.ascii_uppercase, k=random.randint(5, 10)))\n",
    "    bank_account_data = {\n",
    "        \"bankAccountId\": i + 1,\n",
    "        \"bankName\": bank_name,\n",
    "        \"accountNumber\": account_number,\n",
    "        \"accountHolder\": account_holder\n",
    "    }\n",
    "    bank_accounts.append(bank_account_data)\n",
    "\n",
    "with open('bank_accounts.json', 'w') as f:\n",
    "    json.dump(bank_accounts, f, indent=4)\n",
    "    "
   ]
  },
  {
   "cell_type": "code",
   "execution_count": null,
   "id": "cf88e64b-d291-4f52-befc-214cfb060407",
   "metadata": {},
   "outputs": [],
   "source": []
  }
 ],
 "metadata": {
  "kernelspec": {
   "display_name": "Python 3 (ipykernel)",
   "language": "python",
   "name": "python3"
  },
  "language_info": {
   "codemirror_mode": {
    "name": "ipython",
    "version": 3
   },
   "file_extension": ".py",
   "mimetype": "text/x-python",
   "name": "python",
   "nbconvert_exporter": "python",
   "pygments_lexer": "ipython3",
   "version": "3.9.13"
  }
 },
 "nbformat": 4,
 "nbformat_minor": 5
}
