{
 "cells": [
  {
   "cell_type": "code",
   "execution_count": 2,
   "id": "7abbf8da-dd0e-47e2-85c0-3d8872245e43",
   "metadata": {},
   "outputs": [],
   "source": [
    "from faker import Faker\n",
    "import json\n",
    "import random\n",
    "import string\n",
    "\n",
    "fake = Faker()\n",
    "\n",
    "# Custom name generator with a mix of Vietnamese and fake names\n",
    "def custom_name():\n",
    "    if random.random() < 0.5:\n",
    "        return fake.first_name()\n",
    "    else:\n",
    "        return fake.last_name()\n",
    "\n",
    "# List of available languages\n",
    "languages = ['vi_VN', 'zh_CN', 'ja_JP', 'ko_KR', 'th_TH', 'ne_NP', 'bn_BD', 'hi_IN']\n",
    "\n",
    "# Generate passenger data for each language\n",
    "passengers = []\n",
    "for language in languages:\n",
    "    fake = Faker(language)\n",
    "    for i in range(1000):\n",
    "        passenger_id = ''.join(random.choices(string.digits, k=9))\n",
    "        passenger = {\n",
    "            \"passengerId\": passenger_id,\n",
    "            \"name\": custom_name(),\n",
    "            \"address\": fake.address(),\n",
    "            \"phoneNumber\": fake.phone_number(),\n",
    "            \"email\": fake.email(),\n",
    "            \"passportNumber\": fake.random_number(digits=8)\n",
    "        }\n",
    "        passengers.append(passenger)\n",
    "\n",
    "# Write the data to a JSON file\n",
    "with open('passengers.json', 'w') as f:\n",
    "    json.dump(passengers, f, indent=4)\n",
    "    "
   ]
  },
  {
   "cell_type": "code",
   "execution_count": 1,
   "id": "7337980f-a0eb-425f-87ac-c34bab791133",
   "metadata": {},
   "outputs": [
    {
     "name": "stdout",
     "output_type": "stream",
     "text": [
      "A replaced\n",
      "B replaced\n",
      "JSON Data replaced\n"
     ]
    }
   ],
   "source": []
  }
 ],
 "metadata": {
  "kernelspec": {
   "display_name": "Python 3 (ipykernel)",
   "language": "python",
   "name": "python3"
  },
  "language_info": {
   "codemirror_mode": {
    "name": "ipython",
    "version": 3
   },
   "file_extension": ".py",
   "mimetype": "text/x-python",
   "name": "python",
   "nbconvert_exporter": "python",
   "pygments_lexer": "ipython3",
   "version": "3.9.13"
  }
 },
 "nbformat": 4,
 "nbformat_minor": 5
}
