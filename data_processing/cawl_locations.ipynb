{
 "cells": [
  {
   "cell_type": "code",
   "execution_count": 1,
   "id": "18afec63-ce34-49b2-b4aa-75335ae913ce",
   "metadata": {},
   "outputs": [],
   "source": [
    "# locationCode được tạo bằng phương thức lexify của thư viện Faker, với tham số text là \"???\" để tạo một chuỗi ngẫu nhiên gồm ba chữ cái."
   ]
  },
  {
   "cell_type": "code",
   "execution_count": 4,
   "id": "856f29f9-9922-4f12-9166-b24752f1e19e",
   "metadata": {},
   "outputs": [],
   "source": [
    "from faker import Faker\n",
    "import json\n",
    "import random\n",
    "\n",
    "fake = Faker()\n",
    "\n",
    "# List of available languages\n",
    "languages = ['vi_VN', 'zh_CN', 'ja_JP', 'ko_KR', 'th_TH', 'ne_NP', 'bn_BD', 'hi_IN']\n",
    "\n",
    "# load flights data\n",
    "with open('flights.json', 'r') as f:\n",
    "    flights_data = json.load(f)\n",
    "\n",
    "locations = []\n",
    "\n",
    "for language in languages:\n",
    "    fake = Faker(language)\n",
    "    # Generate 1000 locations\n",
    "    for i in range(1000):\n",
    "        location = {\n",
    "            \"locationId\": i + 1,\n",
    "            \"locationName\": fake.city(),\n",
    "            \"locationCode\": random.choice(flights_data),\n",
    "        }\n",
    "        locations.append(location)\n",
    "\n",
    "with open('locations.json', 'w') as f:\n",
    "    json.dump(locations, f, indent=4)\n",
    "    "
   ]
  },
  {
   "cell_type": "code",
   "execution_count": null,
   "id": "d1cc9804-a7ef-4c3c-b640-63228902469e",
   "metadata": {},
   "outputs": [],
   "source": []
  }
 ],
 "metadata": {
  "kernelspec": {
   "display_name": "Python 3 (ipykernel)",
   "language": "python",
   "name": "python3"
  },
  "language_info": {
   "codemirror_mode": {
    "name": "ipython",
    "version": 3
   },
   "file_extension": ".py",
   "mimetype": "text/x-python",
   "name": "python",
   "nbconvert_exporter": "python",
   "pygments_lexer": "ipython3",
   "version": "3.9.13"
  }
 },
 "nbformat": 4,
 "nbformat_minor": 5
}
