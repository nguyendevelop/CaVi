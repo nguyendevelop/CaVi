{
 "cells": [
  {
   "cell_type": "code",
   "execution_count": 1,
   "id": "bf9ada79-5861-4d84-bdb3-b7c3a1091fab",
   "metadata": {},
   "outputs": [],
   "source": [
    "#"
   ]
  },
  {
   "cell_type": "code",
   "execution_count": 2,
   "id": "7e413176-8023-490c-be56-2c2cb093c5d2",
   "metadata": {},
   "outputs": [],
   "source": [
    "from faker import Faker\n",
    "import json\n",
    "import random\n",
    "import string\n",
    "\n",
    "# List of available languages\n",
    "languages = ['vi_VN', 'zh_CN', 'ja_JP', 'ko_KR', 'th_TH', 'ne_NP', 'bn_BD', 'hi_IN']\n",
    "\n",
    "# load flights data\n",
    "with open('flights.json', 'r') as f:\n",
    "    flights_data = json.load(f)\n",
    "\n",
    "# Generate passenger data for each language\n",
    "seats = []\n",
    "for language in languages:\n",
    "    fake = Faker(language)\n",
    "    for i in range(1000):\n",
    "        # generate a random seat number\n",
    "        seat_number = ''.join(random.choices(string.ascii_uppercase + string.digits, k=3))\n",
    "        # select a random seat class\n",
    "        seat_class = random.choice(['Economy', 'Business', 'First'])\n",
    "        # select a random seat type\n",
    "        seat_type = random.choice(['Window', 'Aisle', 'Middle'])\n",
    "        # select a random seat status\n",
    "        seat_status = random.choice(['Booked', 'Checked-in', 'Boarded', 'Cancelled'])\n",
    "        # generate a random seat price\n",
    "        seat_price = random.randint(50, 200) * random.randint(1, 5)\n",
    "        flight_code = random.choice(flights_data)\n",
    "        \n",
    "        seat = {\n",
    "            \"seatNumber\": seat_number,\n",
    "            \"seatClass\": seat_class,\n",
    "            \"seatType\": seat_type,\n",
    "            \"seatStatus\": seat_status,\n",
    "            \"seatPrice\": seat_price,\n",
    "            \"flightCode\": flight_code['flightCode'],\n",
    "        }\n",
    "        seats.append(seat)\n",
    "\n",
    "# Write the data to a JSON file\n",
    "with open('seats.json', 'w') as f:\n",
    "    json.dump(seats, f, indent=4)"
   ]
  }
 ],
 "metadata": {
  "kernelspec": {
   "display_name": "Python 3 (ipykernel)",
   "language": "python",
   "name": "python3"
  },
  "language_info": {
   "codemirror_mode": {
    "name": "ipython",
    "version": 3
   },
   "file_extension": ".py",
   "mimetype": "text/x-python",
   "name": "python",
   "nbconvert_exporter": "python",
   "pygments_lexer": "ipython3",
   "version": "3.9.13"
  }
 },
 "nbformat": 4,
 "nbformat_minor": 5
}
