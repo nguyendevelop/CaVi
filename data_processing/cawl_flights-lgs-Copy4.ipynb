{
 "cells": [
  {
   "cell_type": "code",
   "execution_count": null,
   "id": "2c70d61d-e2e2-4820-a3d0-82670aa7a8f7",
   "metadata": {
    "tags": []
   },
   "outputs": [],
   "source": [
    "#code này ktra gia trị null và languages"
   ]
  },
  {
   "cell_type": "code",
   "execution_count": 12,
   "id": "dd478a43-0cf8-4b75-a24f-3cf07f95d5f3",
   "metadata": {
    "tags": []
   },
   "outputs": [],
   "source": [
    "from faker import Faker\n",
    "import json\n",
    "import random\n",
    "import requests\n",
    "import datetime\n",
    "\n",
    "# List of available languages\n",
    "languages = ['vi_VN', 'zh_CN', 'ja_JP', 'ko_KR', 'th_TH', 'ne_NP', 'bn_BD', 'hi_IN']\n",
    "\n",
    "# Get airport data\n",
    "response0 = requests.get('https://raw.githubusercontent.com/jpatokal/openflights/master/data/airports.dat')\n",
    "\n",
    "# Check if the request was successful\n",
    "if response0.status_code == 200:\n",
    "    airports = []\n",
    "    data = response0.content.decode('utf-8').splitlines()\n",
    "\n",
    "    # Parse the data to get IATA codes of airports\n",
    "    for line in data:\n",
    "        parts = line.split(',')\n",
    "        if len(parts) > 4 and parts[4]:\n",
    "            airports.append(parts[4].replace('\"', ''))\n",
    "else:\n",
    "    print(\"Error getting airport data.\")\n",
    "    \n",
    "# Get airline data\n",
    "response1 = requests.get('https://raw.githubusercontent.com/jpatokal/openflights/master/data/airlines.dat')\n",
    "\n",
    "# Check if the request was successful\n",
    "if response1.status_code == 200:\n",
    "    airlines = {}\n",
    "    data = response1.content.decode('utf-8').splitlines()\n",
    "\n",
    "    # Parse the data to get airline names and codes\n",
    "    for line in data:\n",
    "        parts = line.split(',')\n",
    "        if len(parts) > 1 and parts[1]:\n",
    "            airlines[parts[1].replace('\"', '')] = parts[0].replace('\"', '')\n",
    "else:\n",
    "    print(\"Error getting airline data.\")\n",
    "\n",
    "# Create flight data\n",
    "flights = []\n",
    "for language in languages:\n",
    "    fake = Faker(language)\n",
    "    for i in range(1000):\n",
    "        flight_code = fake.lexify(text=\"{0}###\".format(random.choice([\"VN\", \"CN\", \"JP\", \"JP\", \"KR\", \"TH\", \"NP\", \"BD\", \"IN\"])), letters=\"ABCDEFGHIJKLMNOPQRSTUVWXYZ\")\n",
    "        flight_code = flight_code.replace(\"###\", str(random.randint(875, 975)))\n",
    "        departure_airport = random.choice(airports)\n",
    "        arrival_airport = random.choice(airports)\n",
    "        while arrival_airport == departure_airport:\n",
    "            arrival_airport = random.choice(airports)\n",
    "        departure_datetime = fake.date_time_between_dates(datetime_start=datetime.date(2023, 6, 1), datetime_end=datetime.date(2023, 6, 30))\n",
    "        arrival_datetime = departure_datetime + datetime.timedelta(minutes=random.randint(30, 72*60))\n",
    "        airline_code = random.choice(list(airlines.keys()))\n",
    "        airline_name = airlines[airline_code]\n",
    "        aircraft_type = fake.word()\n",
    "        available_seats = random.randint(100, 300)\n",
    "        if departure_airport == 'HAN' and available_seats >= 10:\n",
    "            available_seats = random.randint(10, 20)  # Set available seats to less than 10 if departure airport is HAN\n",
    "        ticket_price = random.randint(100, 500)\n",
    "        # Check for null values\n",
    "        while True:\n",
    "            try:\n",
    "                departure_date = departure_datetime.strftime(\"%Y-%m-%d\")\n",
    "                departure_time = departure_datetime.strftime(\"%H:%M\")\n",
    "                arrival_date = arrival_datetime.strftime(\"%Y-%m-%d\")\n",
    "                arrival_time = arrival_datetime.strftime(\"%H:%M\")\n",
    "                break\n",
    "            except AttributeError:\n",
    "                departure_datetime = fake.date_time_between(start_date='2023-06-26', end_date='2023-06-30').replace(microsecond=0)\n",
    "                arrival_datetime = departure_datetime + datetime.timedelta(minutes=random.randint(30, 72*60))\n",
    "\n",
    "        flight = {\n",
    "            \"flightCode\": flight_code,\n",
    "            \"departureDate\": departure_date,\n",
    "            \"departureTime\": departure_time,\n",
    "            \"arrivalDate\": arrival_date,\n",
    "            \"arrivalTime\": arrival_time,\n",
    "            \"departureAirport\": departure_airport,\n",
    "            \"arrivalAirport\": arrival_airport,\n",
    "            \"availableSeats\": available_seats,\n",
    "            \"ticketPrice\": ticket_price,\n",
    "            \"airlineCode\": airline_name,\n",
    "            \"airlineName\": airline_code,\n",
    "            \"aircraftType\": aircraft_type\n",
    "        }\n",
    "        flights.append(flight)\n",
    "\n",
    "with open('flights.json', 'w') as f:\n",
    "    json.dump(flights, f, indent=4)"
   ]
  },
  {
   "cell_type": "code",
   "execution_count": null,
   "id": "316cc2ca-29c8-4229-949e-0aeae234fe25",
   "metadata": {},
   "outputs": [],
   "source": [
    "#convert json to csv\n",
    "# import pandas as pd\n",
    "# df = pd.read_json ('flights.json')\n",
    "# df.to_csv('flightss.csv')"
   ]
  },
  {
   "cell_type": "code",
   "execution_count": 4,
   "id": "d58a8458-51a3-49c6-9245-d0f2357b105f",
   "metadata": {},
   "outputs": [
    {
     "name": "stdout",
     "output_type": "stream",
     "text": [
      "A replaced\n",
      "B replaced\n",
      "JSON Data replaced\n"
     ]
    }
   ],
   "source": [
    "findString = \"\\\\\\\\N\"\n",
    "replaceString = \"VBN\"\n",
    "  \n",
    "with open('flights.json', 'r') as f:\n",
    "    data = f.read()\n",
    "    data = data.replace(findString, replaceString)\n",
    "    print(\"A replaced\")\n",
    "  \n",
    "with open('flights.json', 'w') as f:\n",
    "    f.write(data)\n",
    "    print(\"B replaced\")\n",
    "    \n",
    "print(\"JSON Data replaced\")"
   ]
  }
 ],
 "metadata": {
  "kernelspec": {
   "display_name": "Python 3 (ipykernel)",
   "language": "python",
   "name": "python3"
  },
  "language_info": {
   "codemirror_mode": {
    "name": "ipython",
    "version": 3
   },
   "file_extension": ".py",
   "mimetype": "text/x-python",
   "name": "python",
   "nbconvert_exporter": "python",
   "pygments_lexer": "ipython3",
   "version": "3.9.13"
  }
 },
 "nbformat": 4,
 "nbformat_minor": 5
}
